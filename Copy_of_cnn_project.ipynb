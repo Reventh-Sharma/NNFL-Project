{
  "nbformat": 4,
  "nbformat_minor": 0,
  "metadata": {
    "accelerator": "GPU",
    "colab": {
      "name": "Copy of cnn_project.ipynb",
      "provenance": [],
      "collapsed_sections": [],
      "include_colab_link": true
    },
    "kernelspec": {
      "name": "python3",
      "display_name": "Python 3"
    }
  },
  "cells": [
    {
      "cell_type": "markdown",
      "metadata": {
        "id": "view-in-github",
        "colab_type": "text"
      },
      "source": [
        "<a href=\"https://colab.research.google.com/github/Reventh-Sharma/NNFL-Project/blob/master/Copy_of_cnn_project.ipynb\" target=\"_parent\"><img src=\"https://colab.research.google.com/assets/colab-badge.svg\" alt=\"Open In Colab\"/></a>"
      ]
    },
    {
      "cell_type": "markdown",
      "metadata": {
        "id": "QuTUWBFKSD3H",
        "colab_type": "text"
      },
      "source": [
        "# Convolutional Neural Network using an Optimized Backpropagation Technique\n",
        "It has been observed that training CNNs using vanilla backprogatation doesn't ensure good performance, since the objjective function is not close to the global minimum. Attempts to improve this can be made by ensuring that the gradient optimization technique tries to accurately model attempts at moving to the global minimum, despite continual changes to the gradients and the Network parameters.\n",
        "\n",
        "This experiment attempts to demonstrate the working of two commonly used gradient descent optimizers during the backpropagation process.\n",
        "\n",
        "We consider two optimizers, namely the:\n",
        "* AdaDelta Optimizer\n",
        "* RMSProp Optimizer\n",
        "\n",
        "We shall compare the performance of these two well studied optimizers, to verify that the optimized backpropagation technique brings us very good validation results.\n",
        "\n",
        "## Dataset Used\n",
        "We will be using the **COIL-100** Dataset, consisting of exactly 100 images, each having 72 augmentations. This technique of data augmentation is necessary, since the original dataset of 100 immages is too small to generalize well.\n",
        "\n",
        "The dataset resides in the `./dataset/coil-100` directory. We'll be using a generator to generate images and load it onto the main training loop."
      ]
    },
    {
      "cell_type": "code",
      "metadata": {
        "colab_type": "code",
        "id": "KrEO_9bJ44rT",
        "colab": {}
      },
      "source": [
        "import pandas as pd\n",
        "import numpy as np\n",
        "import glob\n",
        "import os\n",
        "import pathlib\n",
        "from PIL import Image\n",
        "import matplotlib.pyplot as plt\n",
        "%matplotlib inline\n",
        "import math\n",
        "import tensorflow as tf\n",
        "from tensorflow.keras import datasets, layers, models\n",
        "from tensorflow.keras.layers import Dense, Activation, Conv2D, AveragePooling2D, Flatten, Dropout, Reshape\n",
        "\n",
        "from tensorflow.python.framework.ops import disable_eager_execution\n",
        "\n",
        "# Disable eager execution\n",
        "disable_eager_execution()"
      ],
      "execution_count": 2,
      "outputs": []
    },
    {
      "cell_type": "markdown",
      "metadata": {
        "id": "Dwuqf3SzSD3X",
        "colab_type": "text"
      },
      "source": [
        "# Batch Generator\n",
        "This is a function which generates images in a batch-wise manner, specified by the batch size. While this is not required in this problem, since we could load the entire dataset at once into memory, it is still a good practice to used similar functions, especially if your dataset cannot fit into memory.\n",
        "\n",
        "This loads images from `directory`, and splits it into **training_images: validation_images** at the default ratio of `0.7:0.3`\n",
        "\n",
        "We associate a label for each image, and the labels are also generated along with the images."
      ]
    },
    {
      "cell_type": "code",
      "metadata": {
        "colab_type": "code",
        "id": "MGkFMpBN5Dtn",
        "colab": {}
      },
      "source": [
        "def generate_images(directory, batch_size, labels, shuffle, target_size, rescale=1./255, validation_split=0.3, fmt='png'):\n",
        "    # Batch Generator -> Generates Numpy arrays from corresponding images after scaling\n",
        "    if not isinstance(target_size, tuple):\n",
        "        raise TypeError(\"Expected Tuple\")\n",
        "    assert validation_split <= 0.5\n",
        "    \n",
        "    data_path = pathlib.Path(directory)\n",
        "    images = list(data_path.glob(\"*.\" + fmt))\n",
        "    num_images = len(images)\n",
        "    \n",
        "    # A Label for each image\n",
        "    print(labels.shape[0], num_images)\n",
        "    assert num_images == labels.shape[0]\n",
        "\n",
        "    idx = 0\n",
        "\n",
        "    images = np.array(images)\n",
        "    inds = np.arange(num_images)\n",
        "    \n",
        "    if shuffle:\n",
        "        np.random.shuffle(inds)\n",
        "        images, labels = images[inds], labels[inds]\n",
        "        # random.shuffle(images)\n",
        "    \n",
        "    val_size = math.ceil(batch_size * (validation_split))\n",
        "    train_size = batch_size - val_size\n",
        "    \n",
        "    while True:\n",
        "        print(\"Loop running\")\n",
        "        image_batch_train = np.zeros((train_size,) + target_size, dtype='float') # target_size is already a tuple\n",
        "        label_batch_train = np.zeros((train_size, labels.shape[1]))\n",
        "        image_batch_val = np.zeros((val_size,) + target_size, dtype='float')\n",
        "        label_batch_val = np.zeros((val_size, labels.shape[1]))\n",
        "        for i in range(train_size):\n",
        "            print(\"Train Batch:\", i)\n",
        "            if idx == num_images:\n",
        "                idx = 0\n",
        "                # random.shuffle(images)\n",
        "                np.random.shuffle(inds)\n",
        "                images, labels = images[inds], labels[inds]\n",
        "            img = images[idx]\n",
        "            image = np.asarray(Image.open(img)).reshape(target_size) * rescale\n",
        "            image_batch_train[i] = image\n",
        "            label_batch_train[i] = labels[idx]\n",
        "            idx += 1\n",
        "        for i in range(train_size, batch_size):\n",
        "            print(\"Val Batch:\", i)\n",
        "            if idx == num_images:\n",
        "                # Reset index and shuffle if we reach the end of the dataset\n",
        "                idx = 0\n",
        "                # random.shuffle(images)\n",
        "                np.random.shuffle(inds)\n",
        "                images, labels = images[inds], labels[inds]\n",
        "            img = images[idx]\n",
        "            image = np.asarray(Image.open(img)).reshape(target_size) * rescale\n",
        "            image_batch_val[i - train_size] = image\n",
        "            label_batch_val[i - train_size] = labels[idx]\n",
        "            idx += 1\n",
        "        # Yield a generator for both the training as well as the validation set of images\n",
        "        yield image_batch_train, label_batch_train, image_batch_val, label_batch_val"
      ],
      "execution_count": 10,
      "outputs": []
    },
    {
      "cell_type": "markdown",
      "metadata": {
        "id": "WNDfsCngSD3i",
        "colab_type": "text"
      },
      "source": [
        "* This helper function converts a numpy `ndarray` to a `PIL` image, for visualizing any output. While this is not directly used in the final experiment, we used this to verify that we were getting the correct outputs from our Network."
      ]
    },
    {
      "cell_type": "code",
      "metadata": {
        "colab_type": "code",
        "id": "tARrOxbs5FCd",
        "colab": {}
      },
      "source": [
        "def numpy_to_img(normalized_img, scale=255.0):\n",
        "    # The original array is normalized, so scale it again\n",
        "    # RGB Mode expects uint8\n",
        "    image = Image.fromarray((normalized_img * scale).astype('uint8'))\n",
        "    return image"
      ],
      "execution_count": 4,
      "outputs": []
    },
    {
      "cell_type": "markdown",
      "metadata": {
        "id": "FDj1_DZESD3v",
        "colab_type": "text"
      },
      "source": [
        "# One-Hot-Encoding Trick\n",
        "For small datasets, the One Hot Encoding trick converts a scalar label into a vector. This is quite useful, since we can directly correlate the softmax output to the one-hot-vector, having the same dimensions. While this does not work for large datasets, we can take advantage of this technique quite clearly in our experiments.\n",
        "\n",
        "* Originally, the labels were simply a number between 0 to 100. Since the number of images are small, we can directly convert them into a one-hot encoding format. This `one_hot_encoder()` function vectorizes a scalar label, and returns the one hot encoding of the labelled dataset."
      ]
    },
    {
      "cell_type": "code",
      "metadata": {
        "colab_type": "code",
        "id": "tDETqaoz5GDn",
        "colab": {}
      },
      "source": [
        "def one_hot_encoder(label_dataset):\n",
        "  \"\"\"\n",
        "    Takes a labelled dataset of the form: [ 0 0 0 ... 1 1 1 ... 100 100 100 ... ]\n",
        "    and returns a one-hot encoding representation of the labelled data\n",
        "  \"\"\"\n",
        "  unique_labels = np.unique(label_dataset)\n",
        "  one_hot_labels = np.zeros((label_dataset.shape[0], unique_labels.shape[0]))\n",
        "  label_dataset = np.repeat(label_dataset, unique_labels.shape[0]).reshape(-1, unique_labels.shape[0])\n",
        "  one_hot_labels[np.where(label_dataset == unique_labels)] = 1\n",
        "  return one_hot_labels"
      ],
      "execution_count": 5,
      "outputs": []
    },
    {
      "cell_type": "markdown",
      "metadata": {
        "id": "UiKA6l6JSD35",
        "colab_type": "text"
      },
      "source": [
        "# Generating the Models\n",
        "\n",
        "We have two models to compare: one using the Adadelta optimizer, and the other, using the RMSProp Optimizer.\n",
        "The models are almost the same. The main structure difference is that the RMSProp has 50 weights for the second-last Dense layer, while the Adadelta has 100. Other that that, there are some hyperparameters specific to both the models.\n",
        "\n",
        "Due to this, plus the fact that the RMSProp Optimizer uses a constant learning rate, we would generally expect the RMSProp model to converge faster than the Adadelta, although the performance wouldn't differ by much."
      ]
    },
    {
      "cell_type": "code",
      "metadata": {
        "id": "93zFMN-wSD37",
        "colab_type": "code",
        "colab": {}
      },
      "source": [
        "def generate_model(optimizer):\n",
        "    if optimizer == 'SGD':\n",
        "        optimizer = tf.keras.optimizers.SGD(\n",
        "            learning_rate=0.01, name='SGD')\n",
        "        model = models.Sequential()\n",
        "        model.add(layers.Conv2D(10, (3, 3), activation='relu', input_shape=(128, 128, 3)))\n",
        "        model.add(layers.MaxPooling2D((2, 2)))\n",
        "        model.add(layers.Conv2D(5, (3, 3), activation='relu'))\n",
        "        model.add(layers.MaxPooling2D((2, 2)))\n",
        "        model.add(layers.Flatten())\n",
        "        model.add(layers.Dense(50, activation='relu'))\n",
        "        model.add(layers.Dense(label_train.shape[1], activation='softmax'))\n",
        "        model.compile(optimizer=optimizer,\n",
        "                      loss=tf.keras.losses.CategoricalCrossentropy(),\n",
        "                      metrics=['accuracy'])\n",
        "        return model\n",
        "    elif optimizer == 'Adadelta':\n",
        "        optimizer = tf.keras.optimizers.Adadelta(\n",
        "            learning_rate=0.024, rho=0.96, epsilon=1e-03, name='Adadelta')\n",
        "        model = models.Sequential()\n",
        "        model.add(layers.Conv2D(10, (3, 3), activation='relu', input_shape=(128, 128, 3)))\n",
        "        model.add(layers.MaxPooling2D((2, 2)))\n",
        "        model.add(layers.Conv2D(5, (3, 3), activation='relu'))\n",
        "        model.add(layers.MaxPooling2D((2, 2)))\n",
        "        model.add(layers.Flatten())\n",
        "        model.add(layers.Dense(50, activation='relu'))\n",
        "        model.add(layers.Dense(label_train.shape[1], activation='softmax'))\n",
        "        model.compile(optimizer=optimizer,\n",
        "                      loss=tf.keras.losses.CategoricalCrossentropy(),\n",
        "                      metrics=['accuracy'])\n",
        "        return model\n",
        "    elif optimizer == 'RMSprop':\n",
        "        optimizer = tf.keras.optimizers.RMSprop(\n",
        "            learning_rate=0.001, rho=0.9, momentum=0.0, epsilon=1e-07, name='RMSprop')\n",
        "        model = models.Sequential()\n",
        "        model.add(layers.Conv2D(10, (3, 3), activation='relu', input_shape=(128, 128, 3)))\n",
        "        model.add(layers.MaxPooling2D((2, 2)))\n",
        "        model.add(layers.Conv2D(5, (3, 3), activation='relu'))\n",
        "        model.add(layers.MaxPooling2D((2, 2)))\n",
        "        model.add(layers.Flatten())\n",
        "        model.add(layers.Dense(50, activation='relu'))\n",
        "        model.add(layers.Dense(label_train.shape[1], activation='softmax'))\n",
        "        model.compile(optimizer=optimizer,\n",
        "                      loss=tf.keras.losses.CategoricalCrossentropy(),\n",
        "                      metrics=['accuracy'])\n",
        "        return model\n",
        "    elif optimizer == 'Adam':\n",
        "        optimizer = tf.keras.optimizers.Adam(\n",
        "          learning_rate=0.001, beta_1=0.9, beta_2=0.999, epsilon=1e-07, name='Adam')\n",
        "        model = models.Sequential()\n",
        "        model.add(layers.Conv2D(10, (3, 3), activation='relu', input_shape=(128, 128, 3)))\n",
        "        model.add(layers.MaxPooling2D((2, 2)))\n",
        "        model.add(layers.Conv2D(5, (3, 3), activation='relu'))\n",
        "        model.add(layers.MaxPooling2D((2, 2)))\n",
        "        model.add(layers.Flatten())\n",
        "        model.add(layers.Dense(50, activation='relu'))\n",
        "        model.add(layers.Dense(label_train.shape[1], activation='softmax'))\n",
        "        model.compile(optimizer=optimizer,\n",
        "                      loss=tf.keras.losses.CategoricalCrossentropy(),\n",
        "                      metrics=['accuracy'])\n",
        "        return model\n",
        "    else:\n",
        "        raise ValueError(\"Only SGD, Adadelta, RMSprop, Adam optimizers are allowed\")"
      ],
      "execution_count": 49,
      "outputs": []
    },
    {
      "cell_type": "code",
      "metadata": {
        "id": "fU1Tql7GKxb9",
        "colab_type": "code",
        "colab": {
          "base_uri": "https://localhost:8080/",
          "height": 34
        },
        "outputId": "239b2b1a-7dab-4b8c-c8af-04efff8c137f"
      },
      "source": [
        "BATCH_SIZE"
      ],
      "execution_count": 15,
      "outputs": [
        {
          "output_type": "execute_result",
          "data": {
            "text/plain": [
              "7200"
            ]
          },
          "metadata": {
            "tags": []
          },
          "execution_count": 15
        }
      ]
    },
    {
      "cell_type": "markdown",
      "metadata": {
        "id": "AzQH8m6DSD4D",
        "colab_type": "text"
      },
      "source": [
        "## The Main Function\n"
      ]
    },
    {
      "cell_type": "code",
      "metadata": {
        "tags": [
          "outputPrepend",
          "outputPrepend",
          "outputPrepend",
          "outputPrepend",
          "outputPrepend",
          "outputPrepend",
          "outputPrepend",
          "outputPrepend",
          "outputPrepend",
          "outputPrepend",
          "outputPrepend",
          "outputPrepend",
          "outputPrepend",
          "outputPrepend",
          "outputPrepend",
          "outputPrepend",
          "outputPrepend",
          "outputPrepend",
          "outputPrepend",
          "outputPrepend",
          "outputPrepend",
          "outputPrepend",
          "outputPrepend",
          "outputPrepend",
          "outputPrepend",
          "outputPrepend",
          "outputPrepend",
          "outputPrepend",
          "outputPrepend",
          "outputPrepend",
          "outputPrepend",
          "outputPrepend",
          "outputPrepend",
          "outputPrepend",
          "outputPrepend",
          "outputPrepend",
          "outputPrepend",
          "outputPrepend",
          "outputPrepend",
          "outputPrepend",
          "outputPrepend",
          "outputPrepend",
          "outputPrepend",
          "outputPrepend",
          "outputPrepend",
          "outputPrepend",
          "outputPrepend",
          "outputPrepend",
          "outputPrepend",
          "outputPrepend",
          "outputPrepend",
          "outputPrepend",
          "outputPrepend",
          "outputPrepend",
          "outputPrepend",
          "outputPrepend",
          "outputPrepend",
          "outputPrepend",
          "outputPrepend",
          "outputPrepend",
          "outputPrepend",
          "outputPrepend",
          "outputPrepend",
          "outputPrepend",
          "outputPrepend",
          "outputPrepend",
          "outputPrepend",
          "outputPrepend",
          "outputPrepend",
          "outputPrepend",
          "outputPrepend",
          "outputPrepend",
          "outputPrepend",
          "outputPrepend",
          "outputPrepend",
          "outputPrepend",
          "outputPrepend",
          "outputPrepend",
          "outputPrepend",
          "outputPrepend",
          "outputPrepend",
          "outputPrepend",
          "outputPrepend",
          "outputPrepend",
          "outputPrepend",
          "outputPrepend",
          "outputPrepend",
          "outputPrepend",
          "outputPrepend",
          "outputPrepend",
          "outputPrepend",
          "outputPrepend",
          "outputPrepend",
          "outputPrepend",
          "outputPrepend",
          "outputPrepend",
          "outputPrepend",
          "outputPrepend",
          "outputPrepend",
          "outputPrepend",
          "outputPrepend",
          "outputPrepend",
          "outputPrepend",
          "outputPrepend",
          "outputPrepend",
          "outputPrepend",
          "outputPrepend",
          "outputPrepend",
          "outputPrepend",
          "outputPrepend",
          "outputPrepend",
          "outputPrepend",
          "outputPrepend",
          "outputPrepend",
          "outputPrepend",
          "outputPrepend",
          "outputPrepend",
          "outputPrepend",
          "outputPrepend",
          "outputPrepend",
          "outputPrepend",
          "outputPrepend",
          "outputPrepend",
          "outputPrepend",
          "outputPrepend",
          "outputPrepend",
          "outputPrepend",
          "outputPrepend",
          "outputPrepend",
          "outputPrepend",
          "outputPrepend",
          "outputPrepend",
          "outputPrepend",
          "outputPrepend",
          "outputPrepend",
          "outputPrepend",
          "outputPrepend",
          "outputPrepend",
          "outputPrepend",
          "outputPrepend",
          "outputPrepend",
          "outputPrepend",
          "outputPrepend",
          "outputPrepend",
          "outputPrepend",
          "outputPrepend",
          "outputPrepend",
          "outputPrepend",
          "outputPrepend",
          "outputPrepend",
          "outputPrepend",
          "outputPrepend",
          "outputPrepend",
          "outputPrepend",
          "outputPrepend",
          "outputPrepend",
          "outputPrepend",
          "outputPrepend",
          "outputPrepend",
          "outputPrepend",
          "outputPrepend",
          "outputPrepend",
          "outputPrepend",
          "outputPrepend",
          "outputPrepend",
          "outputPrepend",
          "outputPrepend",
          "outputPrepend",
          "outputPrepend",
          "outputPrepend",
          "outputPrepend",
          "outputPrepend",
          "outputPrepend",
          "outputPrepend",
          "outputPrepend",
          "outputPrepend",
          "outputPrepend",
          "outputPrepend",
          "outputPrepend",
          "outputPrepend",
          "outputPrepend",
          "outputPrepend",
          "outputPrepend",
          "outputPrepend",
          "outputPrepend",
          "outputPrepend",
          "outputPrepend",
          "outputPrepend",
          "outputPrepend",
          "outputPrepend",
          "outputPrepend",
          "outputPrepend",
          "outputPrepend",
          "outputPrepend",
          "outputPrepend",
          "outputPrepend",
          "outputPrepend",
          "outputPrepend",
          "outputPrepend",
          "outputPrepend",
          "outputPrepend",
          "outputPrepend",
          "outputPrepend",
          "outputPrepend",
          "outputPrepend",
          "outputPrepend",
          "outputPrepend",
          "outputPrepend",
          "outputPrepend",
          "outputPrepend",
          "outputPrepend",
          "outputPrepend",
          "outputPrepend",
          "outputPrepend",
          "outputPrepend",
          "outputPrepend",
          "outputPrepend",
          "outputPrepend",
          "outputPrepend",
          "outputPrepend",
          "outputPrepend",
          "outputPrepend",
          "outputPrepend",
          "outputPrepend",
          "outputPrepend",
          "outputPrepend",
          "outputPrepend",
          "outputPrepend",
          "outputPrepend",
          "outputPrepend",
          "outputPrepend",
          "outputPrepend",
          "outputPrepend",
          "outputPrepend",
          "outputPrepend",
          "outputPrepend",
          "outputPrepend",
          "outputPrepend",
          "outputPrepend",
          "outputPrepend",
          "outputPrepend",
          "outputPrepend",
          "outputPrepend",
          "outputPrepend",
          "outputPrepend",
          "outputPrepend",
          "outputPrepend",
          "outputPrepend",
          "outputPrepend",
          "outputPrepend",
          "outputPrepend",
          "outputPrepend",
          "outputPrepend",
          "outputPrepend",
          "outputPrepend",
          "outputPrepend",
          "outputPrepend",
          "outputPrepend",
          "outputPrepend",
          "outputPrepend",
          "outputPrepend",
          "outputPrepend",
          "outputPrepend"
        ],
        "id": "_0xC9aTjSD4F",
        "colab_type": "code",
        "colab": {}
      },
      "source": [
        "if __name__ == '__main__':\n",
        "    data_path = '/content/drive/My Drive/Assignments/NNFL/dataset/coil-100'\n",
        "    # Path to all images\n",
        "    images = pathlib.Path(data_path).glob(\"*.png\")\n",
        "    image_data = list(images)\n",
        "\n",
        "    CLASS_LABELS = list([int(''.join(item.name.split('_')[0].lstrip('obj'))) for item in image_data])\n",
        "    CLASS_LABELS = np.array((CLASS_LABELS))\n",
        "    CLASS_LABELS = one_hot_encoder(CLASS_LABELS)\n",
        "    \n",
        "    # Define parameters for batch generation\n",
        "    BATCH_SIZE = len(image_data)\n",
        "    IMAGE_WIDTH, IMAGE_HEIGHT = 128, 128\n",
        "    NUM_CHANNELS = 3 # RGB Image has 3 channels\n",
        "\n",
        "    # Use the batch generator. This outputs (train_images, val_images)\n",
        "    gen = generate_images(directory=str(data_path), batch_size=BATCH_SIZE,\n",
        "                            labels=CLASS_LABELS,\n",
        "                            shuffle=True, target_size=(IMAGE_WIDTH, IMAGE_HEIGHT, NUM_CHANNELS),\n",
        "                            validation_split=0.3)\n",
        "\n",
        "    # Example generation. This generates a single batch of training and validation images\n",
        "    batch_train, label_train, batch_val, label_val = next(gen)"
      ],
      "execution_count": null,
      "outputs": []
    },
    {
      "cell_type": "markdown",
      "metadata": {
        "colab_type": "text",
        "id": "U_I7-ZgN-1hF"
      },
      "source": [
        "# Generate the SGD Model"
      ]
    },
    {
      "cell_type": "code",
      "metadata": {
        "id": "pYamMS5A94Vh",
        "colab_type": "code",
        "colab": {
          "base_uri": "https://localhost:8080/",
          "height": 403
        },
        "outputId": "9a271e11-67c5-41c8-9f0e-5277ae696f67"
      },
      "source": [
        "model = generate_model('SGD')\n",
        "print(model.summary())"
      ],
      "execution_count": 38,
      "outputs": [
        {
          "output_type": "stream",
          "text": [
            "Model: \"sequential_4\"\n",
            "_________________________________________________________________\n",
            "Layer (type)                 Output Shape              Param #   \n",
            "=================================================================\n",
            "conv2d_12 (Conv2D)           (None, 126, 126, 10)      280       \n",
            "_________________________________________________________________\n",
            "max_pooling2d_8 (MaxPooling2 (None, 63, 63, 10)        0         \n",
            "_________________________________________________________________\n",
            "conv2d_13 (Conv2D)           (None, 61, 61, 5)         455       \n",
            "_________________________________________________________________\n",
            "max_pooling2d_9 (MaxPooling2 (None, 30, 30, 5)         0         \n",
            "_________________________________________________________________\n",
            "flatten_4 (Flatten)          (None, 4500)              0         \n",
            "_________________________________________________________________\n",
            "dense_8 (Dense)              (None, 50)                225050    \n",
            "_________________________________________________________________\n",
            "dense_9 (Dense)              (None, 100)               5100      \n",
            "=================================================================\n",
            "Total params: 230,885\n",
            "Trainable params: 230,885\n",
            "Non-trainable params: 0\n",
            "_________________________________________________________________\n",
            "None\n"
          ],
          "name": "stdout"
        }
      ]
    },
    {
      "cell_type": "markdown",
      "metadata": {
        "colab_type": "text",
        "id": "jwguOZUx_H7j"
      },
      "source": [
        "# Fit the model on the Dataset"
      ]
    },
    {
      "cell_type": "code",
      "metadata": {
        "id": "IReQTbfw_Iyf",
        "colab_type": "code",
        "colab": {
          "base_uri": "https://localhost:8080/",
          "height": 706
        },
        "outputId": "318fd7f0-d6b6-471b-a77b-8b0696fb12e8"
      },
      "source": [
        "history = model.fit(batch_train, label_train, epochs=20, batch_size=50,\n",
        "                    validation_data=(batch_val, label_val))"
      ],
      "execution_count": 39,
      "outputs": [
        {
          "output_type": "stream",
          "text": [
            "Train on 5040 samples, validate on 2160 samples\n",
            "Epoch 1/20\n",
            "5040/5040 [==============================] - 2s 477us/sample - loss: 4.5588 - accuracy: 0.0347 - val_loss: 4.4751 - val_accuracy: 0.0509\n",
            "Epoch 2/20\n",
            "5040/5040 [==============================] - 2s 435us/sample - loss: 4.2717 - accuracy: 0.0845 - val_loss: 3.9570 - val_accuracy: 0.1023\n",
            "Epoch 3/20\n",
            "5040/5040 [==============================] - 2s 452us/sample - loss: 3.3805 - accuracy: 0.2208 - val_loss: 2.7229 - val_accuracy: 0.3560\n",
            "Epoch 4/20\n",
            "5040/5040 [==============================] - 2s 447us/sample - loss: 2.0922 - accuracy: 0.4810 - val_loss: 1.3817 - val_accuracy: 0.6593\n",
            "Epoch 5/20\n",
            "5040/5040 [==============================] - 2s 437us/sample - loss: 1.1712 - accuracy: 0.7060 - val_loss: 0.9202 - val_accuracy: 0.7519\n",
            "Epoch 6/20\n",
            "5040/5040 [==============================] - 2s 438us/sample - loss: 0.6345 - accuracy: 0.8331 - val_loss: 0.4274 - val_accuracy: 0.8884\n",
            "Epoch 7/20\n",
            "5040/5040 [==============================] - 2s 433us/sample - loss: 0.4041 - accuracy: 0.8893 - val_loss: 0.2970 - val_accuracy: 0.9167\n",
            "Epoch 8/20\n",
            "5040/5040 [==============================] - 2s 460us/sample - loss: 0.2516 - accuracy: 0.9288 - val_loss: 0.2848 - val_accuracy: 0.9190\n",
            "Epoch 9/20\n",
            "5040/5040 [==============================] - 2s 457us/sample - loss: 0.1799 - accuracy: 0.9544 - val_loss: 0.1417 - val_accuracy: 0.9634\n",
            "Epoch 10/20\n",
            "5040/5040 [==============================] - 2s 451us/sample - loss: 0.1236 - accuracy: 0.9661 - val_loss: 0.1265 - val_accuracy: 0.9620\n",
            "Epoch 11/20\n",
            "5040/5040 [==============================] - 2s 450us/sample - loss: 0.0781 - accuracy: 0.9823 - val_loss: 0.0883 - val_accuracy: 0.9731\n",
            "Epoch 12/20\n",
            "5040/5040 [==============================] - 2s 454us/sample - loss: 0.0608 - accuracy: 0.9831 - val_loss: 0.1148 - val_accuracy: 0.9625\n",
            "Epoch 13/20\n",
            "5040/5040 [==============================] - 2s 449us/sample - loss: 0.0363 - accuracy: 0.9946 - val_loss: 0.0577 - val_accuracy: 0.9856\n",
            "Epoch 14/20\n",
            "5040/5040 [==============================] - 2s 441us/sample - loss: 0.0227 - accuracy: 0.9972 - val_loss: 0.0452 - val_accuracy: 0.9898\n",
            "Epoch 15/20\n",
            "5040/5040 [==============================] - 2s 443us/sample - loss: 0.0261 - accuracy: 0.9958 - val_loss: 0.0532 - val_accuracy: 0.9861\n",
            "Epoch 16/20\n",
            "5040/5040 [==============================] - 2s 450us/sample - loss: 0.0212 - accuracy: 0.9972 - val_loss: 0.0432 - val_accuracy: 0.9907\n",
            "Epoch 17/20\n",
            "5040/5040 [==============================] - 2s 448us/sample - loss: 0.0126 - accuracy: 0.9984 - val_loss: 0.0864 - val_accuracy: 0.9829\n",
            "Epoch 18/20\n",
            "5040/5040 [==============================] - 2s 447us/sample - loss: 0.0207 - accuracy: 0.9974 - val_loss: 0.0320 - val_accuracy: 0.9921\n",
            "Epoch 19/20\n",
            "5040/5040 [==============================] - 2s 439us/sample - loss: 0.0169 - accuracy: 0.9974 - val_loss: 0.0329 - val_accuracy: 0.9912\n",
            "Epoch 20/20\n",
            "5040/5040 [==============================] - 2s 441us/sample - loss: 0.0122 - accuracy: 0.9982 - val_loss: 0.0318 - val_accuracy: 0.9912\n"
          ],
          "name": "stdout"
        }
      ]
    },
    {
      "cell_type": "code",
      "metadata": {
        "id": "SEhZVSIC_MEA",
        "colab_type": "code",
        "colab": {}
      },
      "source": [
        "model.save_weights('sgd_model_weights.h5')"
      ],
      "execution_count": 40,
      "outputs": []
    },
    {
      "cell_type": "markdown",
      "metadata": {
        "colab_type": "text",
        "id": "TGXiGUfB_Vhz"
      },
      "source": [
        "# Plot results (SGD)"
      ]
    },
    {
      "cell_type": "markdown",
      "metadata": {
        "colab_type": "text",
        "id": "NPaEtIlH_jio"
      },
      "source": [
        "# Experiment (`batch_size = 50`)"
      ]
    },
    {
      "cell_type": "code",
      "metadata": {
        "id": "JNQQPS8s_nzl",
        "colab_type": "code",
        "colab": {
          "base_uri": "https://localhost:8080/",
          "height": 279
        },
        "outputId": "6099587b-73a8-44ca-f498-fb74a092e11c"
      },
      "source": [
        "plt.plot(history.history['loss'], label='loss')\n",
        "plt.plot(history.history['val_loss'], label = 'val_loss')\n",
        "plt.xlabel('Epoch')\n",
        "plt.ylabel('loss')\n",
        "plt.legend(loc='upper right')\n",
        "\n",
        "test_loss, test_acc = model.evaluate(batch_val,  label_val, verbose=2)"
      ],
      "execution_count": 41,
      "outputs": [
        {
          "output_type": "display_data",
          "data": {
            "image/png": "[encoded data removed]",
            "text/plain": [
              "<Figure size 432x288 with 1 Axes>"
            ]
          },
          "metadata": {
            "tags": [],
            "needs_background": "light"
          }
        }
      ]
    },
    {
      "cell_type": "code",
      "metadata": {
        "id": "-6ZXwCaj_sNy",
        "colab_type": "code",
        "colab": {
          "base_uri": "https://localhost:8080/",
          "height": 34
        },
        "outputId": "a21d88d7-14dc-4f24-ecee-b290ebdbd040"
      },
      "source": [
        "print(test_loss, test_acc)"
      ],
      "execution_count": 42,
      "outputs": [
        {
          "output_type": "stream",
          "text": [
            "0.031799544980404555 0.9912037\n"
          ],
          "name": "stdout"
        }
      ]
    },
    {
      "cell_type": "markdown",
      "metadata": {
        "id": "AGR0jHABSD4S",
        "colab_type": "text"
      },
      "source": [
        "# Generate the Adadelta Model"
      ]
    },
    {
      "cell_type": "code",
      "metadata": {
        "colab_type": "code",
        "id": "TKpghaTX5OHh",
        "colab": {
          "base_uri": "https://localhost:8080/",
          "height": 403
        },
        "outputId": "115f8a8b-016f-4dc7-a888-dbd7512d008f"
      },
      "source": [
        "model = generate_model('Adadelta')\n",
        "print(model.summary())"
      ],
      "execution_count": 50,
      "outputs": [
        {
          "output_type": "stream",
          "text": [
            "Model: \"sequential_7\"\n",
            "_________________________________________________________________\n",
            "Layer (type)                 Output Shape              Param #   \n",
            "=================================================================\n",
            "conv2d_18 (Conv2D)           (None, 126, 126, 10)      280       \n",
            "_________________________________________________________________\n",
            "max_pooling2d_14 (MaxPooling (None, 63, 63, 10)        0         \n",
            "_________________________________________________________________\n",
            "conv2d_19 (Conv2D)           (None, 61, 61, 5)         455       \n",
            "_________________________________________________________________\n",
            "max_pooling2d_15 (MaxPooling (None, 30, 30, 5)         0         \n",
            "_________________________________________________________________\n",
            "flatten_7 (Flatten)          (None, 4500)              0         \n",
            "_________________________________________________________________\n",
            "dense_14 (Dense)             (None, 50)                225050    \n",
            "_________________________________________________________________\n",
            "dense_15 (Dense)             (None, 100)               5100      \n",
            "=================================================================\n",
            "Total params: 230,885\n",
            "Trainable params: 230,885\n",
            "Non-trainable params: 0\n",
            "_________________________________________________________________\n",
            "None\n"
          ],
          "name": "stdout"
        }
      ]
    },
    {
      "cell_type": "markdown",
      "metadata": {
        "id": "W3iHafQBSD4d",
        "colab_type": "text"
      },
      "source": [
        "# Fit the model on the Dataset"
      ]
    },
    {
      "cell_type": "code",
      "metadata": {
        "id": "eTCXXdi2SD4f",
        "colab_type": "code",
        "colab": {
          "base_uri": "https://localhost:8080/",
          "height": 706
        },
        "outputId": "0d926be5-1d85-4b0f-8e0f-1fb7400f0792"
      },
      "source": [
        "history = model.fit(batch_train, label_train, epochs=20, batch_size=50,\n",
        "                    validation_data=(batch_val, label_val))"
      ],
      "execution_count": 51,
      "outputs": [
        {
          "output_type": "stream",
          "text": [
            "Train on 5040 samples, validate on 2160 samples\n",
            "Epoch 1/20\n",
            "5040/5040 [==============================] - 2s 459us/sample - loss: 4.5523 - accuracy: 0.0341 - val_loss: 4.3722 - val_accuracy: 0.0671\n",
            "Epoch 2/20\n",
            "5040/5040 [==============================] - 2s 437us/sample - loss: 3.8219 - accuracy: 0.1435 - val_loss: 2.9757 - val_accuracy: 0.2569\n",
            "Epoch 3/20\n",
            "5040/5040 [==============================] - 2s 441us/sample - loss: 2.1599 - accuracy: 0.4504 - val_loss: 1.2948 - val_accuracy: 0.6602\n",
            "Epoch 4/20\n",
            "5040/5040 [==============================] - 2s 440us/sample - loss: 1.0117 - accuracy: 0.7343 - val_loss: 0.7980 - val_accuracy: 0.7764\n",
            "Epoch 5/20\n",
            "5040/5040 [==============================] - 2s 437us/sample - loss: 0.5105 - accuracy: 0.8625 - val_loss: 0.4347 - val_accuracy: 0.8764\n",
            "Epoch 6/20\n",
            "5040/5040 [==============================] - 2s 444us/sample - loss: 0.2169 - accuracy: 0.9401 - val_loss: 0.2720 - val_accuracy: 0.9171\n",
            "Epoch 7/20\n",
            "5040/5040 [==============================] - 2s 451us/sample - loss: 0.1391 - accuracy: 0.9661 - val_loss: 0.1397 - val_accuracy: 0.9602\n",
            "Epoch 8/20\n",
            "5040/5040 [==============================] - 2s 457us/sample - loss: 0.0718 - accuracy: 0.9843 - val_loss: 0.0622 - val_accuracy: 0.9856\n",
            "Epoch 9/20\n",
            "5040/5040 [==============================] - 2s 449us/sample - loss: 0.0368 - accuracy: 0.9917 - val_loss: 0.0966 - val_accuracy: 0.9750\n",
            "Epoch 10/20\n",
            "5040/5040 [==============================] - 2s 449us/sample - loss: 0.0307 - accuracy: 0.9948 - val_loss: 0.0416 - val_accuracy: 0.9861\n",
            "Epoch 11/20\n",
            "5040/5040 [==============================] - 2s 463us/sample - loss: 0.0145 - accuracy: 0.9976 - val_loss: 0.0449 - val_accuracy: 0.9884\n",
            "Epoch 12/20\n",
            "5040/5040 [==============================] - 2s 433us/sample - loss: 0.0165 - accuracy: 0.9962 - val_loss: 0.0192 - val_accuracy: 0.9958\n",
            "Epoch 13/20\n",
            "5040/5040 [==============================] - 2s 434us/sample - loss: 0.0145 - accuracy: 0.9964 - val_loss: 0.0203 - val_accuracy: 0.9940\n",
            "Epoch 14/20\n",
            "5040/5040 [==============================] - 2s 441us/sample - loss: 0.0064 - accuracy: 0.9984 - val_loss: 0.0182 - val_accuracy: 0.9968\n",
            "Epoch 15/20\n",
            "5040/5040 [==============================] - 2s 441us/sample - loss: 0.0089 - accuracy: 0.9986 - val_loss: 0.0156 - val_accuracy: 0.9968\n",
            "Epoch 16/20\n",
            "5040/5040 [==============================] - 2s 445us/sample - loss: 0.0106 - accuracy: 0.9974 - val_loss: 0.0283 - val_accuracy: 0.9898\n",
            "Epoch 17/20\n",
            "5040/5040 [==============================] - 2s 454us/sample - loss: 0.0085 - accuracy: 0.9984 - val_loss: 0.0147 - val_accuracy: 0.9972\n",
            "Epoch 18/20\n",
            "5040/5040 [==============================] - 2s 436us/sample - loss: 0.0090 - accuracy: 0.9984 - val_loss: 0.0209 - val_accuracy: 0.9940\n",
            "Epoch 19/20\n",
            "5040/5040 [==============================] - 2s 435us/sample - loss: 0.0046 - accuracy: 0.9990 - val_loss: 0.0158 - val_accuracy: 0.9949\n",
            "Epoch 20/20\n",
            "5040/5040 [==============================] - 2s 447us/sample - loss: 0.0074 - accuracy: 0.9978 - val_loss: 0.0176 - val_accuracy: 0.9944\n"
          ],
          "name": "stdout"
        }
      ]
    },
    {
      "cell_type": "code",
      "metadata": {
        "id": "FVx87SyRSD4r",
        "colab_type": "code",
        "colab": {}
      },
      "source": [
        "model.save_weights('adadelta_model_weights.h5')"
      ],
      "execution_count": 52,
      "outputs": []
    },
    {
      "cell_type": "markdown",
      "metadata": {
        "id": "I3mcXrQzSD41",
        "colab_type": "text"
      },
      "source": [
        "# Plot results (Adadelta)"
      ]
    },
    {
      "cell_type": "markdown",
      "metadata": {
        "id": "Ojreosu4SD43",
        "colab_type": "text"
      },
      "source": [
        "# Experiment (`batch_size = 50`)"
      ]
    },
    {
      "cell_type": "code",
      "metadata": {
        "id": "5E4CG0u6SD45",
        "colab_type": "code",
        "colab": {
          "base_uri": "https://localhost:8080/",
          "height": 279
        },
        "outputId": "efc10b56-f214-4fc0-baf3-810e48225fa2"
      },
      "source": [
        "plt.plot(history.history['loss'], label='loss')\n",
        "plt.plot(history.history['val_loss'], label = 'val_loss')\n",
        "plt.xlabel('Epoch')\n",
        "plt.ylabel('loss')\n",
        "plt.legend(loc='upper right')\n",
        "\n",
        "test_loss, test_acc = model.evaluate(batch_val,  label_val, verbose=2)"
      ],
      "execution_count": 53,
      "outputs": [
        {
          "output_type": "display_data",
          "data": {
            "image/png": "[encoded data removed]",
            "text/plain": [
              "<Figure size 432x288 with 1 Axes>"
            ]
          },
          "metadata": {
            "tags": [],
            "needs_background": "light"
          }
        }
      ]
    },
    {
      "cell_type": "code",
      "metadata": {
        "id": "SluSXAAlSD5B",
        "colab_type": "code",
        "colab": {
          "base_uri": "https://localhost:8080/",
          "height": 34
        },
        "outputId": "85c3abb2-4a41-4600-d44c-5c0352748e37"
      },
      "source": [
        "print(test_loss, test_acc)"
      ],
      "execution_count": 54,
      "outputs": [
        {
          "output_type": "stream",
          "text": [
            "0.017640984900019786 0.99444443\n"
          ],
          "name": "stdout"
        }
      ]
    },
    {
      "cell_type": "markdown",
      "metadata": {
        "colab_type": "text",
        "id": "m8UQ7vYD_2tL"
      },
      "source": [
        "# Generate the RMSprop Model"
      ]
    },
    {
      "cell_type": "code",
      "metadata": {
        "colab_type": "code",
        "id": "KzQianLUpgk1",
        "colab": {
          "base_uri": "https://localhost:8080/",
          "height": 403
        },
        "outputId": "92c82be0-acf8-4e91-c14c-7b9c1092ff7a"
      },
      "source": [
        "model = generate_model('RMSprop')\n",
        "print(model.summary())"
      ],
      "execution_count": 55,
      "outputs": [
        {
          "output_type": "stream",
          "text": [
            "Model: \"sequential_8\"\n",
            "_________________________________________________________________\n",
            "Layer (type)                 Output Shape              Param #   \n",
            "=================================================================\n",
            "conv2d_20 (Conv2D)           (None, 126, 126, 10)      280       \n",
            "_________________________________________________________________\n",
            "max_pooling2d_16 (MaxPooling (None, 63, 63, 10)        0         \n",
            "_________________________________________________________________\n",
            "conv2d_21 (Conv2D)           (None, 61, 61, 5)         455       \n",
            "_________________________________________________________________\n",
            "max_pooling2d_17 (MaxPooling (None, 30, 30, 5)         0         \n",
            "_________________________________________________________________\n",
            "flatten_8 (Flatten)          (None, 4500)              0         \n",
            "_________________________________________________________________\n",
            "dense_16 (Dense)             (None, 50)                225050    \n",
            "_________________________________________________________________\n",
            "dense_17 (Dense)             (None, 100)               5100      \n",
            "=================================================================\n",
            "Total params: 230,885\n",
            "Trainable params: 230,885\n",
            "Non-trainable params: 0\n",
            "_________________________________________________________________\n",
            "None\n"
          ],
          "name": "stdout"
        }
      ]
    },
    {
      "cell_type": "markdown",
      "metadata": {
        "id": "RQtw3kZnSD5j",
        "colab_type": "text"
      },
      "source": [
        "# Fit the Model using RMSprop Optimizer"
      ]
    },
    {
      "cell_type": "code",
      "metadata": {
        "id": "B8pkNOnNSD5l",
        "colab_type": "code",
        "colab": {
          "base_uri": "https://localhost:8080/",
          "height": 706
        },
        "outputId": "08decc2c-038a-4a59-bd8d-9656b34cc1fe"
      },
      "source": [
        "history = model.fit(batch_train, label_train, epochs=20, batch_size=50,\n",
        "                    validation_data=(batch_val, label_val))"
      ],
      "execution_count": 56,
      "outputs": [
        {
          "output_type": "stream",
          "text": [
            "Train on 5040 samples, validate on 2160 samples\n",
            "Epoch 1/20\n",
            "5040/5040 [==============================] - 2s 480us/sample - loss: 3.6648 - accuracy: 0.1865 - val_loss: 2.4758 - val_accuracy: 0.3361\n",
            "Epoch 2/20\n",
            "5040/5040 [==============================] - 2s 442us/sample - loss: 1.3607 - accuracy: 0.6605 - val_loss: 0.8130 - val_accuracy: 0.7704\n",
            "Epoch 3/20\n",
            "5040/5040 [==============================] - 2s 443us/sample - loss: 0.5765 - accuracy: 0.8536 - val_loss: 0.3199 - val_accuracy: 0.9259\n",
            "Epoch 4/20\n",
            "5040/5040 [==============================] - 2s 442us/sample - loss: 0.2965 - accuracy: 0.9185 - val_loss: 0.2318 - val_accuracy: 0.9394\n",
            "Epoch 5/20\n",
            "5040/5040 [==============================] - 2s 430us/sample - loss: 0.1844 - accuracy: 0.9452 - val_loss: 0.2949 - val_accuracy: 0.9060\n",
            "Epoch 6/20\n",
            "5040/5040 [==============================] - 2s 443us/sample - loss: 0.1356 - accuracy: 0.9607 - val_loss: 0.1684 - val_accuracy: 0.9426\n",
            "Epoch 7/20\n",
            "5040/5040 [==============================] - 2s 434us/sample - loss: 0.0881 - accuracy: 0.9748 - val_loss: 0.0678 - val_accuracy: 0.9801\n",
            "Epoch 8/20\n",
            "5040/5040 [==============================] - 2s 442us/sample - loss: 0.0733 - accuracy: 0.9802 - val_loss: 0.1516 - val_accuracy: 0.9588\n",
            "Epoch 9/20\n",
            "5040/5040 [==============================] - 2s 445us/sample - loss: 0.0759 - accuracy: 0.9806 - val_loss: 0.0603 - val_accuracy: 0.9852\n",
            "Epoch 10/20\n",
            "5040/5040 [==============================] - 2s 436us/sample - loss: 0.0394 - accuracy: 0.9905 - val_loss: 0.0276 - val_accuracy: 0.9917\n",
            "Epoch 11/20\n",
            "5040/5040 [==============================] - 2s 437us/sample - loss: 0.0379 - accuracy: 0.9897 - val_loss: 0.0280 - val_accuracy: 0.9894\n",
            "Epoch 12/20\n",
            "5040/5040 [==============================] - 2s 435us/sample - loss: 0.0338 - accuracy: 0.9901 - val_loss: 0.0238 - val_accuracy: 0.9921\n",
            "Epoch 13/20\n",
            "5040/5040 [==============================] - 2s 447us/sample - loss: 0.0342 - accuracy: 0.9915 - val_loss: 0.0518 - val_accuracy: 0.9829\n",
            "Epoch 14/20\n",
            "5040/5040 [==============================] - 2s 444us/sample - loss: 0.0286 - accuracy: 0.9899 - val_loss: 0.0319 - val_accuracy: 0.9912\n",
            "Epoch 15/20\n",
            "5040/5040 [==============================] - 2s 439us/sample - loss: 0.0259 - accuracy: 0.9925 - val_loss: 0.0210 - val_accuracy: 0.9944\n",
            "Epoch 16/20\n",
            "5040/5040 [==============================] - 2s 440us/sample - loss: 0.0230 - accuracy: 0.9935 - val_loss: 0.0714 - val_accuracy: 0.9764\n",
            "Epoch 17/20\n",
            "5040/5040 [==============================] - 2s 440us/sample - loss: 0.0204 - accuracy: 0.9937 - val_loss: 0.0201 - val_accuracy: 0.9963\n",
            "Epoch 18/20\n",
            "5040/5040 [==============================] - 2s 446us/sample - loss: 0.0264 - accuracy: 0.9931 - val_loss: 0.0217 - val_accuracy: 0.9926\n",
            "Epoch 19/20\n",
            "5040/5040 [==============================] - 2s 440us/sample - loss: 0.0140 - accuracy: 0.9964 - val_loss: 0.0252 - val_accuracy: 0.9912\n",
            "Epoch 20/20\n",
            "5040/5040 [==============================] - 2s 446us/sample - loss: 0.0139 - accuracy: 0.9974 - val_loss: 0.0169 - val_accuracy: 0.9958\n"
          ],
          "name": "stdout"
        }
      ]
    },
    {
      "cell_type": "code",
      "metadata": {
        "id": "gKH-uL8JSD5t",
        "colab_type": "code",
        "colab": {}
      },
      "source": [
        "model.save_weights('rmsprop_model_weights.h5')"
      ],
      "execution_count": 57,
      "outputs": []
    },
    {
      "cell_type": "markdown",
      "metadata": {
        "id": "BdlZNllDSD59",
        "colab_type": "text"
      },
      "source": [
        "# Plot Results (RMSprop)"
      ]
    },
    {
      "cell_type": "markdown",
      "metadata": {
        "id": "Hs2c-x6ZSD5_",
        "colab_type": "text"
      },
      "source": [
        "# Experiment (`batch_size = 50`)"
      ]
    },
    {
      "cell_type": "code",
      "metadata": {
        "id": "8ebxj3xISD6P",
        "colab_type": "code",
        "colab": {
          "base_uri": "https://localhost:8080/",
          "height": 279
        },
        "outputId": "f853c09f-3567-4cfb-ffc8-9bff37224530"
      },
      "source": [
        "plt.plot(history.history['loss'], label='loss')\n",
        "plt.plot(history.history['val_loss'], label = 'val_loss')\n",
        "plt.xlabel('Epoch')\n",
        "plt.ylabel('loss')\n",
        "plt.legend(loc='upper right')\n",
        "\n",
        "test_loss, test_acc = model.evaluate(batch_val,  label_val, verbose=2)"
      ],
      "execution_count": 58,
      "outputs": [
        {
          "output_type": "display_data",
          "data": {
            "image/png": "[encoded data removed]",
            "text/plain": [
              "<Figure size 432x288 with 1 Axes>"
            ]
          },
          "metadata": {
            "tags": [],
            "needs_background": "light"
          }
        }
      ]
    },
    {
      "cell_type": "code",
      "metadata": {
        "id": "8KAFKu_USD6Y",
        "colab_type": "code",
        "colab": {
          "base_uri": "https://localhost:8080/",
          "height": 34
        },
        "outputId": "ff043d29-6c33-493e-d01c-bc784aee913a"
      },
      "source": [
        "print(test_loss, test_acc)"
      ],
      "execution_count": 59,
      "outputs": [
        {
          "output_type": "stream",
          "text": [
            "0.016895034551810198 0.99583334\n"
          ],
          "name": "stdout"
        }
      ]
    },
    {
      "cell_type": "markdown",
      "metadata": {
        "colab_type": "text",
        "id": "XRMIiaIiFiGH"
      },
      "source": [
        "# Generate the RMSprop Model"
      ]
    },
    {
      "cell_type": "code",
      "metadata": {
        "id": "HKYfGjzlFjqx",
        "colab_type": "code",
        "colab": {
          "base_uri": "https://localhost:8080/",
          "height": 403
        },
        "outputId": "5cd60ac6-5e5b-4417-fa86-98fb30f03afe"
      },
      "source": [
        "model = generate_model('Adam')\n",
        "print(model.summary())"
      ],
      "execution_count": 60,
      "outputs": [
        {
          "output_type": "stream",
          "text": [
            "Model: \"sequential_9\"\n",
            "_________________________________________________________________\n",
            "Layer (type)                 Output Shape              Param #   \n",
            "=================================================================\n",
            "conv2d_22 (Conv2D)           (None, 126, 126, 10)      280       \n",
            "_________________________________________________________________\n",
            "max_pooling2d_18 (MaxPooling (None, 63, 63, 10)        0         \n",
            "_________________________________________________________________\n",
            "conv2d_23 (Conv2D)           (None, 61, 61, 5)         455       \n",
            "_________________________________________________________________\n",
            "max_pooling2d_19 (MaxPooling (None, 30, 30, 5)         0         \n",
            "_________________________________________________________________\n",
            "flatten_9 (Flatten)          (None, 4500)              0         \n",
            "_________________________________________________________________\n",
            "dense_18 (Dense)             (None, 50)                225050    \n",
            "_________________________________________________________________\n",
            "dense_19 (Dense)             (None, 100)               5100      \n",
            "=================================================================\n",
            "Total params: 230,885\n",
            "Trainable params: 230,885\n",
            "Non-trainable params: 0\n",
            "_________________________________________________________________\n",
            "None\n"
          ],
          "name": "stdout"
        }
      ]
    },
    {
      "cell_type": "markdown",
      "metadata": {
        "colab_type": "text",
        "id": "e_9Fek1hFvO1"
      },
      "source": [
        "# Fit the Model using Adam Optimizer"
      ]
    },
    {
      "cell_type": "code",
      "metadata": {
        "id": "QGIKqwyPFmrT",
        "colab_type": "code",
        "colab": {
          "base_uri": "https://localhost:8080/",
          "height": 706
        },
        "outputId": "0c475173-3ac2-4820-90fc-e0652575bbed"
      },
      "source": [
        "history = model.fit(batch_train, label_train, epochs=20, batch_size=50,\n",
        "                    validation_data=(batch_val, label_val))"
      ],
      "execution_count": 61,
      "outputs": [
        {
          "output_type": "stream",
          "text": [
            "Train on 5040 samples, validate on 2160 samples\n",
            "Epoch 1/20\n",
            "5040/5040 [==============================] - 2s 459us/sample - loss: 3.2848 - accuracy: 0.2619 - val_loss: 1.3797 - val_accuracy: 0.6519\n",
            "Epoch 2/20\n",
            "5040/5040 [==============================] - 2s 429us/sample - loss: 0.7651 - accuracy: 0.7935 - val_loss: 0.4140 - val_accuracy: 0.8852\n",
            "Epoch 3/20\n",
            "5040/5040 [==============================] - 2s 419us/sample - loss: 0.2883 - accuracy: 0.9179 - val_loss: 0.2070 - val_accuracy: 0.9472\n",
            "Epoch 4/20\n",
            "5040/5040 [==============================] - 2s 420us/sample - loss: 0.1439 - accuracy: 0.9619 - val_loss: 0.0822 - val_accuracy: 0.9833\n",
            "Epoch 5/20\n",
            "5040/5040 [==============================] - 2s 425us/sample - loss: 0.0717 - accuracy: 0.9853 - val_loss: 0.0643 - val_accuracy: 0.9792\n",
            "Epoch 6/20\n",
            "5040/5040 [==============================] - 2s 429us/sample - loss: 0.0720 - accuracy: 0.9815 - val_loss: 0.0625 - val_accuracy: 0.9912\n",
            "Epoch 7/20\n",
            "5040/5040 [==============================] - 2s 434us/sample - loss: 0.0204 - accuracy: 0.9980 - val_loss: 0.0323 - val_accuracy: 0.9935\n",
            "Epoch 8/20\n",
            "5040/5040 [==============================] - 2s 430us/sample - loss: 0.0119 - accuracy: 0.9984 - val_loss: 0.0376 - val_accuracy: 0.9935\n",
            "Epoch 9/20\n",
            "5040/5040 [==============================] - 2s 427us/sample - loss: 0.0310 - accuracy: 0.9923 - val_loss: 0.0849 - val_accuracy: 0.9759\n",
            "Epoch 10/20\n",
            "5040/5040 [==============================] - 2s 425us/sample - loss: 0.0973 - accuracy: 0.9728 - val_loss: 0.1400 - val_accuracy: 0.9588\n",
            "Epoch 11/20\n",
            "5040/5040 [==============================] - 2s 423us/sample - loss: 0.0242 - accuracy: 0.9950 - val_loss: 0.0222 - val_accuracy: 0.9921\n",
            "Epoch 12/20\n",
            "5040/5040 [==============================] - 2s 421us/sample - loss: 0.0190 - accuracy: 0.9960 - val_loss: 0.0593 - val_accuracy: 0.9806\n",
            "Epoch 13/20\n",
            "5040/5040 [==============================] - 2s 423us/sample - loss: 0.0124 - accuracy: 0.9974 - val_loss: 0.0118 - val_accuracy: 0.9954\n",
            "Epoch 14/20\n",
            "5040/5040 [==============================] - 2s 429us/sample - loss: 0.0070 - accuracy: 0.9988 - val_loss: 0.0169 - val_accuracy: 0.9954\n",
            "Epoch 15/20\n",
            "5040/5040 [==============================] - 2s 419us/sample - loss: 0.0072 - accuracy: 0.9988 - val_loss: 0.0124 - val_accuracy: 0.9968\n",
            "Epoch 16/20\n",
            "5040/5040 [==============================] - 2s 423us/sample - loss: 0.0067 - accuracy: 0.9988 - val_loss: 0.0062 - val_accuracy: 0.9986\n",
            "Epoch 17/20\n",
            "5040/5040 [==============================] - 2s 428us/sample - loss: 0.0040 - accuracy: 0.9990 - val_loss: 0.0292 - val_accuracy: 0.9940\n",
            "Epoch 18/20\n",
            "5040/5040 [==============================] - 2s 423us/sample - loss: 0.0037 - accuracy: 0.9992 - val_loss: 0.0064 - val_accuracy: 0.9981\n",
            "Epoch 19/20\n",
            "5040/5040 [==============================] - 2s 425us/sample - loss: 0.0035 - accuracy: 0.9990 - val_loss: 0.0176 - val_accuracy: 0.9963\n",
            "Epoch 20/20\n",
            "5040/5040 [==============================] - 2s 430us/sample - loss: 0.0030 - accuracy: 0.9992 - val_loss: 0.0058 - val_accuracy: 0.9991\n"
          ],
          "name": "stdout"
        }
      ]
    },
    {
      "cell_type": "code",
      "metadata": {
        "id": "w14UcyPoF38z",
        "colab_type": "code",
        "colab": {}
      },
      "source": [
        "model.save_weights('adam_model_weights.h5')"
      ],
      "execution_count": 63,
      "outputs": []
    },
    {
      "cell_type": "markdown",
      "metadata": {
        "colab_type": "text",
        "id": "mzGnsBalF9ek"
      },
      "source": [
        "# Plot Results (Adam)"
      ]
    },
    {
      "cell_type": "markdown",
      "metadata": {
        "colab_type": "text",
        "id": "eXVfxhzjGDSS"
      },
      "source": [
        "# Experiment (`batch_size = 50`)"
      ]
    },
    {
      "cell_type": "code",
      "metadata": {
        "id": "fuGYUW9NF--J",
        "colab_type": "code",
        "colab": {
          "base_uri": "https://localhost:8080/",
          "height": 279
        },
        "outputId": "f459eb6a-1b69-4977-c055-ae115e9f2d06"
      },
      "source": [
        "plt.plot(history.history['loss'], label='loss')\n",
        "plt.plot(history.history['val_loss'], label = 'val_loss')\n",
        "plt.xlabel('Epoch')\n",
        "plt.ylabel('loss')\n",
        "plt.legend(loc='upper right')\n",
        "\n",
        "test_loss, test_acc = model.evaluate(batch_val,  label_val, verbose=2)"
      ],
      "execution_count": 64,
      "outputs": [
        {
          "output_type": "display_data",
          "data": {
            "image/png": "[encoded data removed]",
            "text/plain": [
              "<Figure size 432x288 with 1 Axes>"
            ]
          },
          "metadata": {
            "tags": [],
            "needs_background": "light"
          }
        }
      ]
    },
    {
      "cell_type": "code",
      "metadata": {
        "id": "ic-AZnj_GNEN",
        "colab_type": "code",
        "colab": {
          "base_uri": "https://localhost:8080/",
          "height": 34
        },
        "outputId": "7f341e27-05a8-4850-cbe5-681386d31a46"
      },
      "source": [
        "print(test_loss, test_acc)"
      ],
      "execution_count": 65,
      "outputs": [
        {
          "output_type": "stream",
          "text": [
            "0.005791762543419652 0.9990741\n"
          ],
          "name": "stdout"
        }
      ]
    },
    {
      "cell_type": "markdown",
      "metadata": {
        "id": "agDtnKCVSD6-",
        "colab_type": "text"
      },
      "source": [
        "# Load the PreTrained Weights\n",
        "This function loads the previously trained weights for both the models, from the files `adadelta_model_weights.h5` and `rmsprop_model_weights.h5`.\n",
        "\n",
        "You can load the model from these weights and test them on sample images."
      ]
    },
    {
      "cell_type": "code",
      "metadata": {
        "id": "mFrpOuawSD7A",
        "colab_type": "code",
        "colab": {}
      },
      "source": [
        "def load_model(type):\n",
        "    if type == \"SGD\":\n",
        "        model = generate_model(\"Adadelta\")\n",
        "        model.load_weights('sgd_model_weights.h5')\n",
        "        return model\n",
        "    elif type == \"Adadelta\":\n",
        "        model = generate_model(\"Adadelta\")\n",
        "        model.load_weights('adadelta_model_weights.h5')\n",
        "        return model\n",
        "    elif type == \"RMSprop\":\n",
        "        model = generate_model(\"RMSprop\")\n",
        "        model.load_weights('rmsprop_model_weights.h5')\n",
        "        return model\n",
        "    elif type == \"Adam\":\n",
        "        model = generate_model(\"Adam\")\n",
        "        model.load_weights('adam_model_weights.h5')\n",
        "        return model\n",
        "    else:\n",
        "        raise ValueError(\"Only SGD, Adagrad, RMSprop and ADAM models supported\")"
      ],
      "execution_count": 76,
      "outputs": []
    },
    {
      "cell_type": "markdown",
      "metadata": {
        "id": "eD6c3Pd4SD7H",
        "colab_type": "text"
      },
      "source": [
        "# Test the Model\n",
        "This function tests the model on some sample images randomly taken from the batch generator function. This returns the prediction for every sample test image, along with their corresponding labels and images. We can use this to verify the correctness of our model."
      ]
    },
    {
      "cell_type": "code",
      "metadata": {
        "id": "5oeg0JvkSD7J",
        "colab_type": "code",
        "colab": {}
      },
      "source": [
        "def test_model(model, data_path, num_samples):\n",
        "    gen = generate_images(directory=str(data_path), batch_size=num_samples,\n",
        "                            labels=CLASS_LABELS,\n",
        "                            shuffle=True, target_size=(IMAGE_WIDTH, IMAGE_HEIGHT, NUM_CHANNELS),\n",
        "                            validation_split=0)\n",
        "    # We don't need any validation images, since this is test-time\n",
        "    test_images, test_labels, _, _ = next(gen)\n",
        "    # Make the prediction using the model\n",
        "    predictions = model.predict(test_images)\n",
        "\n",
        "    test_images = test_images.reshape(test_images.shape[0], -1)\n",
        "\n",
        "    def convert_to_image(img_arr, target_shape=(IMAGE_WIDTH, IMAGE_HEIGHT, NUM_CHANNELS), scale=255.0):\n",
        "        # The original array is normalized, so scale it again\n",
        "        # RGB Mode expects uint8\n",
        "        image = Image.fromarray((img_arr.reshape(target_shape) * scale).astype('uint8'))\n",
        "        return image\n",
        "    \n",
        "    return np.apply_along_axis(np.argmax, arr=predictions, axis=1), np.apply_along_axis(convert_to_image, arr=test_images, axis=1), test_labels"
      ],
      "execution_count": 70,
      "outputs": []
    },
    {
      "cell_type": "markdown",
      "metadata": {
        "id": "S1DVe0nvSD7m",
        "colab_type": "text"
      },
      "source": [
        "## Load and Test the $Adadelta$ model"
      ]
    },
    {
      "cell_type": "code",
      "metadata": {
        "id": "Tnw15jWDSD7o",
        "colab_type": "code",
        "colab": {}
      },
      "source": [
        "model = load_model('Adadelta')\n",
        "predictions, test_images, test_labels = test_model(model, data_path, num_samples=10)"
      ],
      "execution_count": null,
      "outputs": []
    },
    {
      "cell_type": "code",
      "metadata": {
        "id": "A_mIDJ4DSD7y",
        "colab_type": "code",
        "colab": {
          "base_uri": "https://localhost:8080/",
          "height": 318
        },
        "outputId": "05308b12-16e6-4f18-9551-8b79636190ff"
      },
      "source": [
        "# Example Image for testing the Model\n",
        "print(f\"Predicted Label: {predictions[0]}\")\n",
        "print(f\"Actual Label: {np.argmax(test_labels[0])}\")\n",
        "plt.imshow(test_images[0])"
      ],
      "execution_count": 72,
      "outputs": [
        {
          "output_type": "stream",
          "text": [
            "Predicted Label: 71\n",
            "Actual Label: 71\n"
          ],
          "name": "stdout"
        },
        {
          "output_type": "execute_result",
          "data": {
            "text/plain": [
              "<matplotlib.image.AxesImage at 0x7fb8301ab898>"
            ]
          },
          "metadata": {
            "tags": []
          },
          "execution_count": 72
        },
        {
          "output_type": "display_data",
          "data": {
            "image/png": "[encoded data removed]",
            "text/plain": [
              "<Figure size 432x288 with 1 Axes>"
            ]
          },
          "metadata": {
            "tags": [],
            "needs_background": "light"
          }
        }
      ]
    },
    {
      "cell_type": "markdown",
      "metadata": {
        "id": "4gT8Yiv6SD76",
        "colab_type": "text"
      },
      "source": [
        "## Load and Test the $RMSprop$ Model:"
      ]
    },
    {
      "cell_type": "code",
      "metadata": {
        "id": "SgWhC0yTSD77",
        "colab_type": "code",
        "colab": {}
      },
      "source": [
        "model = load_model('RMSprop')\n",
        "predictions, test_images, test_labels = test_model(model, data_path, num_samples=10)"
      ],
      "execution_count": null,
      "outputs": []
    },
    {
      "cell_type": "code",
      "metadata": {
        "id": "WWe46yyRSD8M",
        "colab_type": "code",
        "colab": {
          "base_uri": "https://localhost:8080/",
          "height": 318
        },
        "outputId": "1753fcdf-13a0-4a72-f870-f4b273254651"
      },
      "source": [
        "# Example Image for testing the Model\n",
        "print(f\"Predicted Label: {predictions[0]}\")\n",
        "print(f\"Actual Label: {np.argmax(test_labels[0])}\")\n",
        "plt.imshow(test_images[0])"
      ],
      "execution_count": 74,
      "outputs": [
        {
          "output_type": "stream",
          "text": [
            "Predicted Label: 98\n",
            "Actual Label: 98\n"
          ],
          "name": "stdout"
        },
        {
          "output_type": "execute_result",
          "data": {
            "text/plain": [
              "<matplotlib.image.AxesImage at 0x7fb7e19ebd30>"
            ]
          },
          "metadata": {
            "tags": []
          },
          "execution_count": 74
        },
        {
          "output_type": "display_data",
          "data": {
            "image/png": "[encoded data removed]",
            "text/plain": [
              "<Figure size 432x288 with 1 Axes>"
            ]
          },
          "metadata": {
            "tags": [],
            "needs_background": "light"
          }
        }
      ]
    },
    {
      "cell_type": "markdown",
      "metadata": {
        "colab_type": "text",
        "id": "90BqJrhib2EM"
      },
      "source": [
        "## Load and Test the $Adam$ Model:"
      ]
    },
    {
      "cell_type": "code",
      "metadata": {
        "id": "EUloTcO0b3ci",
        "colab_type": "code",
        "colab": {}
      },
      "source": [
        "model = load_model('Adam')\n",
        "predictions, test_images, test_labels = test_model(model, data_path, num_samples=10)"
      ],
      "execution_count": null,
      "outputs": []
    },
    {
      "cell_type": "code",
      "metadata": {
        "id": "0FUjeb0nch9Y",
        "colab_type": "code",
        "colab": {
          "base_uri": "https://localhost:8080/",
          "height": 318
        },
        "outputId": "f9267323-898d-4215-b95b-7efbcf455873"
      },
      "source": [
        "# Example Image for testing the Model\n",
        "print(f\"Predicted Label: {predictions[0]}\")\n",
        "print(f\"Actual Label: {np.argmax(test_labels[0])}\")\n",
        "plt.imshow(test_images[0])"
      ],
      "execution_count": 82,
      "outputs": [
        {
          "output_type": "stream",
          "text": [
            "Predicted Label: 81\n",
            "Actual Label: 81\n"
          ],
          "name": "stdout"
        },
        {
          "output_type": "execute_result",
          "data": {
            "text/plain": [
              "<matplotlib.image.AxesImage at 0x7fb7e119d630>"
            ]
          },
          "metadata": {
            "tags": []
          },
          "execution_count": 82
        },
        {
          "output_type": "display_data",
          "data": {
            "image/png": "[encoded data removed]",
            "text/plain": [
              "<Figure size 432x288 with 1 Axes>"
            ]
          },
          "metadata": {
            "tags": [],
            "needs_background": "light"
          }
        }
      ]
    },
    {
      "cell_type": "markdown",
      "metadata": {
        "id": "XLWF3RbHSD8U",
        "colab_type": "text"
      },
      "source": [
        "# Conclusion\n",
        "\n",
        "As you can observe, the validation accuracy of both the optimizers are very similar, indicating that the reach very similar minima.\n",
        "\n",
        "We can see that overall, AdaDelta can possibly generalize better than RMSProp for our small dataset, since $Accuracy_{adadelta} = 0.9958$, while $Accuracy_{rmsprop} = 0.9912$.\n",
        "\n",
        "However, the loss of `AdaDelta` ($Loss_{adadelta}$) = 0.015, while the loss of `RMSProp` ($Loss_{rmsprop}$) = 0.033. This means that overall, the AdaDelta optimizer has reached a point closer to the global minima, as compared to RMSProp. This better converge has a cost, with a higher number of epochs required to tackle the vanishing gradients problem, when the gradients are close to zero. RMSProp does not face this issue, since it has a constant learning rate $\\eta = 0.001$.\n",
        "\n",
        "While the applicability of these two optimizers varies depending on the problem, for our small scale CNN, we indeed observed that AdaDelta fares the best among the two, although we set a do a lot of epochs in training to beat the RMSProp optimizer."
      ]
    }
  ]
}